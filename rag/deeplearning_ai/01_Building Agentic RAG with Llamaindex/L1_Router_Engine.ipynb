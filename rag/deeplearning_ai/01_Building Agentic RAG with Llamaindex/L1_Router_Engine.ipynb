{
 "cells": [
  {
   "cell_type": "markdown",
   "id": "dd7c4c87",
   "metadata": {},
   "source": [
    "# Lesson 1: Router Engine"
   ]
  },
  {
   "cell_type": "markdown",
   "id": "877df988",
   "metadata": {},
   "source": [
    "Welcome to Lesson 1.\n",
    "\n",
    "To access the `requirements.txt` file, the data/pdf file required for this lesson and the `helper` and `utils` modules, please go to the `File` menu and select`Open...`.\n",
    "\n",
    "I hope you enjoy this course!"
   ]
  },
  {
   "cell_type": "markdown",
   "id": "357c97c9",
   "metadata": {},
   "source": [
    "## Setup"
   ]
  },
  {
   "cell_type": "code",
   "execution_count": 1,
   "id": "ab5f4f4a-5890-451c-8869-24606ef9f396",
   "metadata": {
    "height": 63,
    "tags": []
   },
   "outputs": [],
   "source": [
    "from helper import get_openai_api_key\n",
    "\n",
    "OPENAI_API_KEY = get_openai_api_key()"
   ]
  },
  {
   "cell_type": "code",
   "execution_count": 2,
   "id": "ffc9b4f4-64d4-4266-9889-54db90e00ee9",
   "metadata": {
    "height": 63,
    "tags": []
   },
   "outputs": [],
   "source": [
    "import nest_asyncio\n",
    "\n",
    "nest_asyncio.apply()"
   ]
  },
  {
   "cell_type": "markdown",
   "id": "49fca250",
   "metadata": {},
   "source": [
    "## Load Data"
   ]
  },
  {
   "cell_type": "markdown",
   "id": "f3ae2a8c",
   "metadata": {
    "tags": []
   },
   "source": [
    "To download this paper, below is the needed code:\n",
    "\n",
    "#!wget \"https://openreview.net/pdf?id=VtmBAGCN7o\" -O metagpt.pdf\n",
    "\n",
    "**Note**: The pdf file is included with this lesson. To access it, go to the `File` menu and select`Open...`."
   ]
  },
  {
   "cell_type": "code",
   "execution_count": 3,
   "id": "5c7f012d-dcd3-4881-a568-72dd27d79159",
   "metadata": {
    "height": 96,
    "tags": []
   },
   "outputs": [],
   "source": [
    "from llama_index.core import SimpleDirectoryReader\n",
    "\n",
    "# load documents\n",
    "documents = SimpleDirectoryReader(input_files=[\"storyboard.pdf\"]).load_data()"
   ]
  },
  {
   "cell_type": "code",
   "execution_count": 4,
   "id": "7ecb45e3",
   "metadata": {},
   "outputs": [
    {
     "data": {
      "text/plain": [
       "[Document(id_='ae1fbcae-d1d9-4cc8-8a83-63760cf65c40', embedding=None, metadata={'page_label': '1', 'file_name': 'storyboard.pdf', 'file_path': 'storyboard.pdf', 'file_type': 'application/pdf', 'file_size': 259171, 'creation_date': '2024-09-04', 'last_modified_date': '2024-09-03'}, excluded_embed_metadata_keys=['file_name', 'file_type', 'file_size', 'creation_date', 'last_modified_date', 'last_accessed_date'], excluded_llm_metadata_keys=['file_name', 'file_type', 'file_size', 'creation_date', 'last_modified_date', 'last_accessed_date'], relationships={}, text='The\\tArt\\tand\\tEvolution\\tof\\tB-Roll\\nI.\\tIntroduction\\tto\\tB-Roll\\nDefinition\\tand\\tImportance\\nB-Roll\\trefers\\tto\\tsupplemental\\tor\\talternative\\tfootage\\tintercut\\twith\\tthe\\tmain\\tshot\\tin\\tvideo\\tproduction.\\tIt\\tis\\tcrucial\\tfor\\nenhancing\\tstorytelling,\\tproviding\\tcontext,\\tand\\tmaintaining\\tviewer\\tengagement.\\tBy\\tincorporating\\tB-Roll,\\tfilmmakers\\tand\\ncontent\\tcreators\\tcan\\tillustrate\\tpoints\\tmore\\tvividly,\\tbreak\\tthe\\tmonotony\\tof\\ta\\tsingle\\tshot,\\tand\\tprovide\\tvisual\\tevidence\\nthat\\tsupports\\tthe\\tnarrative.\\tFor\\tinstance,\\tin\\ta\\tdocumentary\\tabout\\twildlife,\\tB-Roll\\tmight\\tinclude\\tclose-up\\tshots\\tof\\nanimals,\\ttheir\\thabitats,\\tand\\tnatural\\tbehaviors,\\tthereby\\tenriching\\tthe\\tviewer\\'s\\tunderstanding\\tand\\texperience.\\nHistorical\\tContext\\nThe\\tterm\\t\"B-Roll\"\\toriginated\\tfrom\\tthe\\tfilm\\tindustry,\\twhere\\tit\\twas\\tused\\tto\\tdescribe\\tsecondary\\tfootage.\\tInitially,\\tB-Roll\\nwas\\tutilized\\tto\\tcover\\tediting\\tcuts,\\tmask\\tcontinuity\\terrors,\\tand\\tadd\\tdepth\\tto\\tthe\\tprimary\\tnarrative.\\tOver\\ttime,\\tit\\thas\\nbecome\\tessential\\tin\\tvarious\\tforms\\tof\\tmedia,\\tincluding\\tnews,\\tdocumentaries,\\tand\\tcorporate\\tvideos.\\tIn\\tthe\\tearly\\tdays\\tof\\ntelevision\\tnews,\\tB-Roll\\tplayed\\ta\\tpivotal\\trole\\tin\\tproviding\\tvisual\\tcontext\\tto\\tnews\\tstories,\\tmaking\\treports\\tmore\\tengaging\\nand\\tinformative.\\tFor\\texample,\\ta\\tnews\\tsegment\\ton\\ta\\tlocal\\tfestival\\twould\\tbe\\tenhanced\\twith\\tB-Roll\\tshowing\\tthe\\tfestival\\'s\\nactivities,\\tcrowds,\\tand\\tperformances.\\nEvolution\\tin\\tModern\\tMedia\\nWith\\tadvancements\\tin\\ttechnology,\\tB-Roll\\thas\\tevolved\\tsignificantly\\tand\\tfound\\tnew\\tapplications\\tin\\tdigital\\tmedia,\\tsocial\\nmedia,\\tand\\tonline\\tcontent\\tcreation.\\tHigh-definition\\tcameras,\\tdrones,\\tand\\tmobile\\tdevices\\thave\\tmade\\tit\\teasier\\tto\\tcapture\\nhigh-quality\\tB-Roll\\tfootage.\\tAdditionally,\\tediting\\tsoftware\\thas\\tbecome\\tmore\\tsophisticated,\\tallowing\\tcreators\\tto\\nseamlessly\\tintegrate\\tB-Roll\\tinto\\ttheir\\tprojects.\\nIn\\tthe\\trealm\\tof\\tdigital\\tmedia,\\tB-Roll\\tis\\tindispensable\\tfor\\tcreating\\tdynamic\\tand\\tengaging\\tcontent.\\tFor\\tinstance,\\nYouTubers\\tand\\tvloggers\\toften\\tuse\\tB-Roll\\tto\\tadd\\tvariety\\tto\\ttheir\\tvideos,\\tillustrate\\ttutorials,\\tor\\tprovide\\ta\\tvisual\\tbreak\\nfrom\\ttalking-head\\tsegments.\\tOn\\tsocial\\tmedia\\tplatforms\\tlike\\tInstagram\\tand\\tTikTok,\\tB-Roll\\thelps\\tin\\tcrafting\\tcompelling\\nstories\\tthat\\tcapture\\tand\\tretain\\tviewers\\'\\tattention.\\nMoreover,\\tthe\\trise\\tof\\tonline\\tcontent\\tcreation\\thas\\tled\\tto\\tinnovative\\tuses\\tof\\tB-Roll.\\tIn\\teducational\\tvideos,\\tB-Roll\\tcan\\ndemonstrate\\tconcepts,\\tshow\\treal-world\\tapplications,\\tand\\tkeep\\tlearners\\tengaged.\\tIn\\tcorporate\\tvideos,\\tit\\tcan\\thighlight\\ncompany\\tculture,\\tshowcase\\tproducts,\\tand\\tenhance\\tbrand\\tstorytelling.\\nIn\\tconclusion,\\tB-Roll\\thas\\ttranscended\\tits\\ttraditional\\trole\\tin\\tfilm\\tand\\ttelevision\\tto\\tbecome\\ta\\tvital\\tcomponent\\tof\\tmodern\\nmedia\\tproduction.\\tIts\\tability\\tto\\tenhance\\tstorytelling,\\tprovide\\tcontext,\\tand\\tmaintain\\tviewer\\tengagement\\tmakes\\tit\\tan\\ninvaluable\\ttool\\tfor\\tcontent\\tcreators\\tacross\\tvarious\\tplatforms.\\nII.\\tPlanning\\tYour\\tB-Roll\\nPre-Production\\tConsiderations\\nStoryboarding\\nEffective\\tB-Roll\\tbegins\\twith\\tmeticulous\\tplanning,\\tand\\tstoryboarding\\tis\\tan\\tessential\\tfirst\\tstep.\\tBy\\toutlining\\tthe\\tnarrative,\\nyou\\tcan\\tidentify\\tthe\\texact\\tmoments\\twhere\\tB-Roll\\twill\\tenhance\\tthe\\tstory.\\tThis\\tvisual\\tblueprint\\tallows\\tyou\\tto\\tsee\\tthe\\tflow\\nof\\tyour\\tmain\\tfootage\\tand\\tpinpoint\\tareas\\tthat\\tneed\\tsupplementary\\tvisuals.\\tFor\\tinstance,\\tin\\ta\\tdocumentary\\tabout\\turban\\ngardening,\\ta\\tstoryboard\\tmight\\thighlight\\tscenes\\twhere\\tB-Roll\\tof\\tcommunity\\tgardens,\\tplanting\\tactivities,\\tand\\tclose-ups\\tof\\nplants\\tcan\\tadd\\tdepth\\tand\\tcontext\\tto\\tthe\\tnarrative.\\tStoryboarding\\tnot\\tonly\\thelps\\tin\\tvisualizing\\tthe\\tfinal\\tproduct\\tbut\\talso\\nensures\\tthat\\tevery\\tshot\\tserves\\ta\\tpurpose\\tin\\tthe\\tstorytelling\\tprocess.\\nShot\\tList\\nCreating\\ta\\tdetailed\\tshot\\tlist\\tis\\tcrucial\\tfor\\torganized\\tand\\tefficient\\tB-Roll\\tproduction.\\tA\\tshot\\tlist\\toutlines\\tall\\tthe\\tspecific\\nshots\\tneeded\\tto\\tsupport\\tthe\\tmain\\tfootage,\\tensuring\\tthat\\tno\\tcritical\\tvisuals\\tare\\toverlooked.\\tThis\\tlist\\tshould\\tinclude\\nvarious\\ttypes\\tof\\tshots\\tsuch\\tas\\twide\\tangles,\\tclose-ups,\\tand\\tcutaways\\tthat\\tcan\\tbe\\tinterwoven\\twith\\tthe\\tprimary\\tfootage.\\nFor\\texample,\\tin\\ta\\tcorporate\\tvideo\\tshowcasing\\ta\\tnew\\tproduct,\\tthe\\tshot\\tlist\\tmight\\tinclude\\tclose-ups\\tof\\tthe\\tproduct\\tin\\tuse,\\nwide\\tshots\\tof\\tthe\\tmanufacturing\\tprocess,\\tand\\tcutaways\\tof\\tsatisfied\\tcustomers.\\tA\\tcomprehensive\\tshot\\tlist\\tensures\\tthat\\nthe\\tproduction\\tteam\\tcaptures\\tall\\tnecessary\\tfootage,\\tsaving\\ttime\\tand\\tresources\\tduring\\tfilming.\\nLocation\\tScouting\\nChoosing\\tthe\\tright\\tlocations\\tis\\tpivotal\\tfor\\tcapturing\\tcompelling\\tB-Roll.\\tLocation\\tscouting\\tinvolves\\tvisiting\\tpotential\\nfilming\\tsites\\tto\\tassess\\ttheir\\tsuitability\\tfor\\tthe\\tnarrative\\tand\\tvisual\\tcontext.\\tThe\\tgoal\\tis\\tto\\tfind\\tlocations\\tthat\\tnot\\tonly\\tlook\\ngood\\ton\\tcamera\\tbut\\talso\\tenhance\\tthe\\tstory\\tbeing\\ttold.\\tFor\\ta\\ttravel\\tdocumentary,\\tthis\\tmight\\tmean\\tscouting\\tpicturesque\\nlandscapes,\\tbustling\\tmarkets,\\tand\\tcultural\\tlandmarks.\\tBy\\tselecting\\tvisually\\trich\\tand\\tcontextually\\trelevant\\tlocations,\\tyou\\ncan\\tensure\\tthat\\tyour\\tB-Roll\\tadds\\tauthenticity\\tand\\tdepth\\tto\\tthe\\tmain\\tfootage.', mimetype='text/plain', start_char_idx=None, end_char_idx=None, text_template='{metadata_str}\\n\\n{content}', metadata_template='{key}: {value}', metadata_seperator='\\n'),\n",
       " Document(id_='32017b44-9372-4327-8a0a-6fb212ea1cae', embedding=None, metadata={'page_label': '2', 'file_name': 'storyboard.pdf', 'file_path': 'storyboard.pdf', 'file_type': 'application/pdf', 'file_size': 259171, 'creation_date': '2024-09-04', 'last_modified_date': '2024-09-03'}, excluded_embed_metadata_keys=['file_name', 'file_type', 'file_size', 'creation_date', 'last_modified_date', 'last_accessed_date'], excluded_llm_metadata_keys=['file_name', 'file_type', 'file_size', 'creation_date', 'last_modified_date', 'last_accessed_date'], relationships={}, text=\"Budgeting\\nBudgeting\\tis\\ta\\tcritical\\taspect\\tof\\tB-Roll\\tproduction\\tthat\\trequires\\tcareful\\tplanning.\\tThis\\tinvolves\\tallocating\\tfunds\\tfor\\nequipment,\\tlocations,\\tand\\tpersonnel\\tneeded\\tto\\tcapture\\thigh-quality\\tB-Roll.\\tConsider\\tthe\\tcosts\\tof\\trenting\\tor\\tpurchasing\\ncameras,\\tlighting,\\tand\\tstabilization\\ttools,\\tas\\twell\\tas\\tany\\tlocation\\tfees\\tor\\tpermits\\trequired.\\tAdditionally,\\tfactor\\tin\\tthe\\nexpenses\\tfor\\thiring\\tskilled\\tcrew\\tmembers\\tsuch\\tas\\tcamera\\toperators\\tand\\tlighting\\ttechnicians.\\tA\\twell-planned\\tbudget\\nensures\\tthat\\tyou\\thave\\tthe\\tnecessary\\tresources\\tto\\tproduce\\tprofessional-grade\\tB-Roll\\twithout\\toverspending.\\nEquipment\\tand\\tSetup\\nCameras\\nUsing\\thigh-quality\\tcameras\\tis\\tessential\\tfor\\tensuring\\tthat\\tyour\\tB-Roll\\tfootage\\tmatches\\tthe\\tmain\\tfootage\\tin\\tterms\\tof\\nresolution\\tand\\tclarity.\\tInvest\\tin\\tcameras\\tthat\\toffer\\thigh-definition\\tor\\t4K\\tcapabilities\\tto\\tcapture\\tcrisp\\tand\\tdetailed\\nvisuals.\\tFor\\tinstance,\\ta\\twildlife\\tdocumentary\\tmight\\trequire\\tcameras\\twith\\texcellent\\tzoom\\tcapabilities\\tand\\tlow-light\\nperformance\\tto\\tcapture\\tanimals\\tin\\ttheir\\tnatural\\thabitats.\\tHigh-quality\\tcameras\\tnot\\tonly\\tenhance\\tthe\\tvisual\\tappeal\\tof\\nyour\\tB-Roll\\tbut\\talso\\tprovide\\tmore\\tflexibility\\tin\\tpost-production.\\nLighting\\nProper\\tlighting\\tis\\tcrucial\\tfor\\tachieving\\tconsistent\\tand\\tvisually\\tappealing\\tB-Roll.\\tEnsure\\tthat\\tthe\\tlighting\\tsetup\\tmatches\\nthe\\tmain\\tfootage\\tto\\tmaintain\\ta\\tcohesive\\tlook\\tthroughout\\tthe\\tproject.\\tThis\\tmight\\tinvolve\\tusing\\tnatural\\tlight,\\tstudio\\nlights,\\tor\\ta\\tcombination\\tof\\tboth,\\tdepending\\ton\\tthe\\tshooting\\tconditions.\\tFor\\texample,\\tin\\tan\\tindoor\\tinterview\\tsetting,\\nsoftbox\\tlights\\tcan\\tbe\\tused\\tto\\tcreate\\tflattering\\tand\\teven\\tlighting\\ton\\tthe\\tsubject.\\tProper\\tlighting\\tenhances\\tthe\\tquality\\tof\\nyour\\tB-Roll,\\tmaking\\tit\\tmore\\tvisually\\tengaging\\tand\\tprofessional.\\nAudio\\nWhile\\tB-Roll\\tis\\tprimarily\\tvisual,\\tcapturing\\tambient\\tsound\\tcan\\tadd\\tan\\textra\\tlayer\\tof\\trealism\\tand\\timmersion.\\tConsider\\nusing\\tmicrophones\\tto\\trecord\\tthe\\tnatural\\tsounds\\tof\\tthe\\tenvironment,\\tsuch\\tas\\tbirds\\tchirping\\tin\\ta\\tnature\\tdocumentary\\tor\\nthe\\thustle\\tand\\tbustle\\tof\\ta\\tcity\\tstreet\\tin\\ta\\ttravel\\tvlog.\\tAmbient\\tsound\\tcan\\tbe\\tused\\tto\\tcomplement\\tthe\\tmain\\taudio\\ttrack,\\nproviding\\ta\\tricher\\tand\\tmore\\timmersive\\tviewing\\texperience.\\tEnsure\\tthat\\tthe\\taudio\\tquality\\tis\\tclear\\tand\\tfree\\tfrom\\nunwanted\\tnoise\\tto\\tenhance\\tthe\\toverall\\tproduction\\tvalue.\\nStabilization\\nStabilization\\ttools\\tare\\tessential\\tfor\\tavoiding\\tshaky\\tfootage\\tand\\tensuring\\tsmooth,\\tprofessional-quality\\tB-Roll.\\tUse\\ntripods,\\tgimbals,\\tor\\tother\\tstabilization\\tequipment\\tto\\tkeep\\tthe\\tcamera\\tsteady\\tduring\\tfilming.\\tFor\\tinstance,\\ta\\tgimbal\\tcan\\nbe\\tparticularly\\tuseful\\tfor\\tcapturing\\tdynamic\\tmoving\\tshots,\\tsuch\\tas\\tfollowing\\ta\\tsubject\\tthrough\\ta\\tcrowded\\tmarket.\\nStabilized\\tfootage\\tnot\\tonly\\tlooks\\tmore\\tpolished\\tbut\\talso\\tenhances\\tthe\\tviewer's\\texperience\\tby\\tproviding\\tclear\\tand\\tsteady\\nvisuals.\\tInvesting\\tin\\tproper\\tstabilization\\ttools\\tis\\tcrucial\\tfor\\tproducing\\thigh-quality\\tB-Roll\\tthat\\tcomplements\\tthe\\tmain\\nfootage\\tseamlessly.\\nBy\\tmeticulously\\tplanning\\tand\\texecuting\\tthese\\tpre-production\\tconsiderations\\tand\\tequipment\\tsetups,\\tyou\\tcan\\tensure\\tthat\\nyour\\tB-Roll\\tsignificantly\\tenhances\\tthe\\tstorytelling\\tand\\tvisual\\tappeal\\tof\\tyour\\tproject.\\nIII.\\tTypes\\tof\\tB-Roll\\tFootage\\nAtmospheric\\tShots\\nDescription\\nAtmospheric\\tshots\\tare\\tdesigned\\tto\\tcapture\\tthe\\tmood\\tand\\tambiance\\tof\\ta\\tscene,\\tadding\\tdepth\\tand\\temotional\\tresonance\\nto\\tthe\\tnarrative.\\tThese\\tshots\\toften\\tinclude\\twide\\tangles\\tof\\tlandscapes,\\tcityscapes,\\tor\\tother\\tenvironments\\tthat\\tset\\tthe\\ntone\\tfor\\tthe\\tstory.\\tThe\\tpurpose\\tof\\tatmospheric\\tshots\\tis\\tto\\timmerse\\tthe\\tviewer\\tin\\tthe\\tsetting,\\tproviding\\ta\\tsense\\tof\\tplace\\nand\\tcontext\\tthat\\tenhances\\tthe\\toverall\\tstorytelling\\texperience.\\nExamples\\nAtmospheric\\tB-Roll\\tis\\tparticularly\\teffective\\tin\\tscenarios\\twhere\\tthe\\tenvironment\\tplays\\ta\\tcrucial\\trole\\tin\\tthe\\tnarrative.\\tFor\\ninstance,\\tin\\ta\\tdocumentary\\tabout\\tclimate\\tchange,\\twide\\tshots\\tof\\tmelting\\tglaciers\\tor\\tdeforested\\tareas\\tcan\\tpowerfully\\nconvey\\tthe\\timpact\\tof\\tenvironmental\\tdegradation.\\tSimilarly,\\tin\\ta\\ttravel\\tvlog,\\tsweeping\\tviews\\tof\\ticonic\\tlandmarks\\tor\\nbustling\\tcity\\tstreets\\tcan\\ttransport\\tthe\\taudience\\tto\\tthe\\tlocation,\\tmaking\\tthem\\tfeel\\tas\\tthough\\tthey\\tare\\texperiencing\\tthe\\njourney\\tfirsthand.\\nAction\\tShots\\nDescription\\nAction\\tshots\\tare\\tdynamic\\tand\\tengaging,\\tcapturing\\tmovement\\tand\\tactivity\\tto\\tadd\\texcitement\\tand\\tenergy\\tto\\tthe\\tvideo.\\nThese\\tshots\\toften\\tinclude\\tfast-paced\\tsequences,\\tsuch\\tas\\tsports\\tevents,\\tbustling\\tmarketplaces,\\tor\\tany\\tscenario\\twhere\", mimetype='text/plain', start_char_idx=None, end_char_idx=None, text_template='{metadata_str}\\n\\n{content}', metadata_template='{key}: {value}', metadata_seperator='\\n'),\n",
       " Document(id_='cd222fa3-b58e-4eba-b7a3-11b78406c5da', embedding=None, metadata={'page_label': '3', 'file_name': 'storyboard.pdf', 'file_path': 'storyboard.pdf', 'file_type': 'application/pdf', 'file_size': 259171, 'creation_date': '2024-09-04', 'last_modified_date': '2024-09-03'}, excluded_embed_metadata_keys=['file_name', 'file_type', 'file_size', 'creation_date', 'last_modified_date', 'last_accessed_date'], excluded_llm_metadata_keys=['file_name', 'file_type', 'file_size', 'creation_date', 'last_modified_date', 'last_accessed_date'], relationships={}, text=\"there\\tis\\tsignificant\\tmotion.\\tAction\\tshots\\tare\\tessential\\tfor\\tmaintaining\\tviewer\\tinterest\\tand\\tconveying\\ta\\tsense\\tof\\turgency\\nor\\tintensity\\twithin\\tthe\\tnarrative.\\nExamples\\nIn\\tdifferent\\tcontexts,\\taction\\tshots\\tcan\\tvary\\twidely.\\tFor\\texample,\\tin\\ta\\tsports\\tdocumentary,\\taction\\tshots\\tmight\\tinclude\\nclose-ups\\tof\\tathletes\\tin\\tmotion,\\tslow-motion\\treplays\\tof\\tcritical\\tmoments,\\tor\\twide\\tshots\\tof\\tthe\\tentire\\tfield.\\tIn\\ta\\tcorporate\\nvideo,\\taction\\tshots\\tcould\\tcapture\\temployees\\tcollaborating\\tin\\ta\\tbusy\\toffice,\\tmachinery\\toperating\\tin\\ta\\tfactory,\\tor\\tproducts\\nbeing\\tassembled\\ton\\ta\\tproduction\\tline.\\tThese\\tshots\\tnot\\tonly\\tadd\\tvisual\\tinterest\\tbut\\talso\\thelp\\tto\\tillustrate\\tkey\\tpoints\\tand\\nkeep\\tthe\\taudience\\tengaged.\\nEstablishing\\tShots\\nDescription\\nEstablishing\\tshots\\tare\\tused\\tto\\tset\\tthe\\tscene\\tand\\tprovide\\tthe\\tviewer\\twith\\ta\\tsense\\tof\\tlocation\\tand\\tcontext.\\tThese\\tshots\\nare\\ttypically\\twide\\tangles\\tor\\taerial\\tviews\\tthat\\tgive\\tan\\toverview\\tof\\tthe\\tsetting\\tbefore\\tthe\\tnarrative\\tzooms\\tin\\ton\\tspecific\\ndetails.\\tThe\\tsignificance\\tof\\testablishing\\tshots\\tlies\\tin\\ttheir\\tability\\tto\\torient\\tthe\\tviewer,\\tmaking\\tit\\tclear\\twhere\\tthe\\nsubsequent\\taction\\tis\\ttaking\\tplace.\\nUsage\\nAs\\tB-Roll,\\testablishing\\tshots\\tare\\tinvaluable\\tfor\\tcreating\\ta\\tseamless\\ttransition\\tbetween\\tscenes.\\tFor\\texample,\\tin\\ta\\ndocumentary\\tabout\\turban\\tdevelopment,\\tan\\testablishing\\tshot\\tof\\ta\\tcity's\\tskyline\\tcan\\tintroduce\\ta\\tsegment\\tabout\\tnew\\narchitectural\\tprojects.\\tIn\\ta\\tfeature\\tfilm,\\tan\\testablishing\\tshot\\tof\\ta\\trural\\tfarmhouse\\tcan\\tset\\tthe\\tstage\\tfor\\ta\\tscene\\tthat\\ntakes\\tplace\\tinside.\\tBy\\tproviding\\ta\\tvisual\\tanchor,\\testablishing\\tshots\\thelp\\tto\\tmaintain\\tthe\\tnarrative\\tflow\\tand\\tensure\\tthat\\nthe\\taudience\\tremains\\toriented\\tthroughout\\tthe\\tvideo.\\nCutaway\\tShots\\nDescription\\nCutaway\\tshots\\tare\\tused\\tto\\tprovide\\tadditional\\tcontext\\tor\\tto\\tillustrate\\tpoints\\tmade\\tin\\tthe\\tmain\\tfootage.\\tThese\\tshots\\toften\\ninvolve\\tcutting\\taway\\tfrom\\tthe\\tprimary\\taction\\tto\\tshow\\trelated\\tvisuals\\tthat\\tenhance\\tthe\\tviewer's\\tunderstanding\\tof\\tthe\\nnarrative.\\tCutaway\\tshots\\tare\\tparticularly\\tuseful\\tin\\tinterviews\\tand\\tnarrative\\tstorytelling,\\twhere\\tthey\\tcan\\tbreak\\tup\\tlong\\nsegments\\tof\\ttalking\\theads\\tand\\tadd\\tvisual\\tvariety.\\nExamples\\nIn\\tinterviews,\\tcutaway\\tshots\\tmight\\tinclude\\tvisuals\\tof\\tthe\\tinterviewee's\\twork\\tenvironment,\\trelevant\\tobjects,\\tor\\tactions\\nthat\\tillustrate\\ttheir\\tpoints.\\tFor\\tinstance,\\tin\\tan\\tinterview\\twith\\ta\\tchef,\\tcutaway\\tshots\\tcould\\tshow\\tthe\\tchef\\tpreparing\\ta\\ndish,\\tclose-ups\\tof\\tingredients,\\tor\\tthe\\tbustling\\tactivity\\tin\\tthe\\tkitchen.\\tIn\\tnarrative\\tstorytelling,\\tcutaway\\tshots\\tcan\\tprovide\\nglimpses\\tof\\tsecondary\\tcharacters,\\tbackground\\tactivities,\\tor\\tsymbolic\\timagery\\tthat\\tenriches\\tthe\\tmain\\tstoryline.\\tThese\\nshots\\tnot\\tonly\\tadd\\tdepth\\tto\\tthe\\tnarrative\\tbut\\talso\\tkeep\\tthe\\tviewer\\tengaged\\tby\\tproviding\\tvisual\\tbreaks\\tand\\tadditional\\nlayers\\tof\\tmeaning.\\nInsert\\tShots\\nDescription\\nInsert\\tshots\\tfocus\\ton\\tspecific\\tdetails\\twithin\\ta\\tscene,\\temphasizing\\telements\\tthat\\tmight\\totherwise\\tgo\\tunnoticed.\\tThese\\nshots\\tare\\ttypically\\tclose-ups\\tor\\textreme\\tclose-ups\\tthat\\tdraw\\tattention\\tto\\timportant\\taspects\\tof\\tthe\\tnarrative.\\tThe\\nimportance\\tof\\tinsert\\tshots\\tlies\\tin\\ttheir\\tability\\tto\\thighlight\\tkey\\tdetails,\\tadding\\temphasis\\tand\\tclarity\\tto\\tthe\\tstory.\\nUsage\\nInsert\\tshots\\tcan\\tsignificantly\\tenhance\\tthe\\tnarrative\\tby\\tproviding\\tcritical\\tvisual\\tinformation.\\tFor\\texample,\\tin\\ta\\tproduct\\ndemonstration\\tvideo,\\tinsert\\tshots\\tmight\\tshow\\tclose-ups\\tof\\tthe\\tproduct's\\tfeatures,\\tsuch\\tas\\tbuttons,\\ttextures,\\tor\\tintricate\\nmechanisms.\\tIn\\ta\\tdramatic\\tfilm,\\tinsert\\tshots\\tcould\\tfocus\\ton\\ta\\tcharacter's\\teyes\\tto\\tconvey\\temotion,\\ta\\tsignificant\\tobject\\nthat\\tdrives\\tthe\\tplot,\\tor\\ta\\tsubtle\\tdetail\\tthat\\tforeshadows\\tfuture\\tevents.\\tBy\\thoning\\tin\\ton\\tthese\\tdetails,\\tinsert\\tshots\\thelp\\tto\\nguide\\tthe\\tviewer's\\tattention\\tand\\tunderscore\\timportant\\telements\\tof\\tthe\\tstory.\\nBy\\tunderstanding\\tand\\teffectively\\tutilizing\\tthese\\tvarious\\ttypes\\tof\\tB-Roll\\tfootage,\\tyou\\tcan\\tenrich\\tyour\\tvideo\\tprojects,\\ncreating\\ta\\tmore\\timmersive\\tand\\tengaging\\tviewing\\texperience.\\tEach\\ttype\\tof\\tshot\\tserves\\ta\\tunique\\tpurpose,\\tcontributing\\nto\\tthe\\toverall\\tnarrative\\tand\\tenhancing\\tthe\\tvisual\\tstorytelling.\\nIV.\\tShooting\\tEffective\\tB-Roll\\nPlanning\\tand\\tPreparation\\nTips\", mimetype='text/plain', start_char_idx=None, end_char_idx=None, text_template='{metadata_str}\\n\\n{content}', metadata_template='{key}: {value}', metadata_seperator='\\n'),\n",
       " Document(id_='25cfa7dd-a1b0-4b0a-afd9-76b75c6814ef', embedding=None, metadata={'page_label': '4', 'file_name': 'storyboard.pdf', 'file_path': 'storyboard.pdf', 'file_type': 'application/pdf', 'file_size': 259171, 'creation_date': '2024-09-04', 'last_modified_date': '2024-09-03'}, excluded_embed_metadata_keys=['file_name', 'file_type', 'file_size', 'creation_date', 'last_modified_date', 'last_accessed_date'], excluded_llm_metadata_keys=['file_name', 'file_type', 'file_size', 'creation_date', 'last_modified_date', 'last_accessed_date'], relationships={}, text=\"Effective\\tB-Roll\\tbegins\\twith\\tmeticulous\\tplanning\\tand\\tpreparation.\\tBefore\\theading\\tout\\tto\\tshoot,\\tit's\\tcrucial\\tto\\thave\\ta\\nclear\\tvision\\tof\\tthe\\tshots\\tyou\\tneed.\\tStart\\tby\\tunderstanding\\tthe\\tstory\\tyou\\twant\\tto\\ttell\\tand\\thow\\tB-Roll\\tcan\\tenhance\\tthat\\nnarrative.\\tConsider\\tthe\\tlocations,\\ttimes\\tof\\tday,\\tand\\tspecific\\telements\\tyou\\twant\\tto\\tcapture.\\tPlanning\\tahead\\tallows\\tyou\\tto\\nanticipate\\tpotential\\tchallenges\\tand\\tensures\\tthat\\tyou\\thave\\tthe\\tnecessary\\tpermissions\\tand\\taccess\\tto\\tshoot\\tin\\tyour\\tchosen\\nlocations.\\nShot\\tList\\nCreating\\ta\\tshot\\tlist\\tis\\tan\\tindispensable\\tpart\\tof\\tthe\\tplanning\\tprocess.\\tA\\twell-thought-out\\tshot\\tlist\\tserves\\tas\\ta\\troadmap\\tfor\\nyour\\tshoot,\\thelping\\tyou\\tstay\\torganized\\tand\\tfocused.\\tIt\\tensures\\tthat\\tyou\\tcapture\\tall\\tthe\\tessential\\tfootage\\tneeded\\tto\\nsupport\\tyour\\tmain\\tnarrative.\\tInclude\\ta\\tvariety\\tof\\tshotsâ€”wide,\\tmedium,\\tand\\tclose-upsâ€”to\\tprovide\\tvisual\\tdiversity.\\nHaving\\ta\\tshot\\tlist\\talso\\tallows\\tyou\\tto\\tbe\\tmore\\tefficient\\twith\\tyour\\ttime,\\treducing\\tthe\\tlikelihood\\tof\\tmissing\\tcritical\\tshots.\\nTechniques\\tand\\tAngles\\nDescription\\nThe\\ttechniques\\tand\\tangles\\tyou\\temploy\\tcan\\tsignificantly\\tenhance\\tthe\\tquality\\tand\\timpact\\tof\\tyour\\tB-Roll\\tfootage.\\nExperiment\\twith\\tdifferent\\tshooting\\ttechniques,\\tsuch\\tas\\tpanning,\\ttilting,\\tand\\ttracking\\tshots,\\tto\\tadd\\tdynamic\\tmovement\\nto\\tyour\\tvisuals.\\tConsider\\tthe\\trule\\tof\\tthirds\\tand\\tleading\\tlines\\tto\\tcreate\\tbalanced\\tand\\tvisually\\tappealing\\tcompositions.\\nVarying\\tyour\\tanglesâ€”high,\\tlow,\\tand\\teye-levelâ€”can\\tprovide\\tfresh\\tperspectives\\tand\\tkeep\\tyour\\taudience\\tengaged.\\nExamples\\nCreative\\tangles\\tand\\tmovements\\tcan\\ttransform\\tordinary\\tscenes\\tinto\\tcaptivating\\tvisuals.\\tFor\\tinstance,\\ta\\tlow-angle\\tshot\\nof\\ta\\tbustling\\tmarketplace\\tcan\\tconvey\\tthe\\tenergy\\tand\\tactivity\\tof\\tthe\\tscene,\\twhile\\ta\\thigh-angle\\tshot\\tof\\ta\\tserene\\tlandscape\\ncan\\tevoke\\ta\\tsense\\tof\\ttranquility.\\tSlow-motion\\tshots\\tcan\\tadd\\tdrama\\tand\\temphasize\\tdetails,\\twhile\\ttime-lapse\\tsequences\\ncan\\tillustrate\\tthe\\tpassage\\tof\\ttime.\\tBy\\texperimenting\\twith\\tdifferent\\ttechniques\\tand\\tangles,\\tyou\\tcan\\tcreate\\tvisually\\ncompelling\\tB-Roll\\tthat\\tenhances\\tyour\\tstorytelling.\\nEquipment\\tand\\tSettings\\nRecommended\\tEquipment\\nChoosing\\tthe\\tright\\tequipment\\tis\\tessential\\tfor\\tcapturing\\thigh-quality\\tB-Roll.\\tA\\tversatile\\tcamera\\twith\\tgood\\tlow-light\\nperformance\\tand\\ta\\trange\\tof\\tlenses\\twill\\tgive\\tyou\\tthe\\tflexibility\\tto\\tshoot\\tin\\tvarious\\tconditions.\\tA\\ttripod\\tor\\tgimbal\\tis\\ncrucial\\tfor\\tachieving\\tstable\\tshots,\\tespecially\\twhen\\tusing\\ttechniques\\tlike\\tpanning\\tor\\ttracking.\\tAdditionally,\\tconsider\\nusing\\texternal\\tmicrophones\\tand\\taudio\\trecorders\\tto\\tcapture\\thigh-quality\\tsound,\\twhich\\tcan\\tgreatly\\tenhance\\tthe\\trealism\\nof\\tyour\\tfootage.\\nCamera\\tSettings\\nUnderstanding\\tand\\tadjusting\\tyour\\tcamera\\tsettings\\tcan\\tmake\\ta\\tsignificant\\tdifference\\tin\\tthe\\tquality\\tof\\tyour\\tB-Roll.\\tUse\\ta\\nhigher\\tframe\\trate\\tfor\\tsmooth\\tslow-motion\\tshots\\tand\\ta\\tlower\\tframe\\trate\\tfor\\ta\\tmore\\tcinematic\\tlook.\\tAdjust\\tthe\\taperture\\nto\\tcontrol\\tthe\\tdepth\\tof\\tfield,\\tcreating\\ta\\tblurred\\tbackground\\tthat\\tdraws\\tattention\\tto\\tyour\\tsubject.\\tExperiment\\twith\\ndifferent\\tISO\\tsettings\\tto\\tfind\\tthe\\tright\\tbalance\\tbetween\\texposure\\tand\\tnoise,\\tespecially\\tin\\tlow-light\\tconditions.\\nCustomizing\\tyour\\twhite\\tbalance\\tsettings\\tensures\\taccurate\\tcolor\\trepresentation,\\twhich\\tis\\tcrucial\\tfor\\tmaintaining\\nconsistency\\tacross\\tyour\\tfootage.\\nCapturing\\tAmbient\\tSound\\nImportance\\nAmbient\\tsound\\tplays\\ta\\tvital\\trole\\tin\\tenhancing\\tthe\\trealism\\tand\\timmersion\\tof\\tyour\\tB-Roll\\tfootage.\\tIt\\tprovides\\tcontext\\tand\\ndepth,\\tmaking\\tthe\\tvisuals\\tmore\\tengaging\\tand\\tbelievable.\\tCapturing\\thigh-quality\\tambient\\tsound\\tcan\\ttransport\\tyour\\naudience\\tto\\tthe\\tlocation,\\tallowing\\tthem\\tto\\texperience\\tthe\\tenvironment\\tas\\tif\\tthey\\twere\\tthere.\\tWhether\\tit's\\tthe\\trustling\\tof\\nleaves,\\tthe\\tchatter\\tof\\ta\\tcrowd,\\tor\\tthe\\thum\\tof\\tmachinery,\\tambient\\tsound\\tadds\\tan\\textra\\tlayer\\tof\\tauthenticity\\tto\\tyour\\nfootage.\\nTechniques\\nTo\\trecord\\thigh-quality\\tambient\\taudio,\\tuse\\texternal\\tmicrophones\\tand\\taudio\\trecorders\\tthat\\tcan\\tcapture\\ta\\twide\\trange\\tof\\nfrequencies.\\tPosition\\tyour\\tmicrophones\\tstrategically\\tto\\tavoid\\tunwanted\\tnoise\\tand\\tensure\\tthat\\tthe\\tprimary\\tsounds\\tare\\nclear\\tand\\tdistinct.\\tConsider\\tusing\\ta\\twindscreen\\tor\\tblimp\\tto\\treduce\\twind\\tnoise\\twhen\\trecording\\toutdoors.\\tMonitor\\tyour\\naudio\\tlevels\\tthroughout\\tthe\\tshoot\\tto\\tprevent\\tclipping\\tand\\tdistortion.\\tBy\\tpaying\\tattention\\tto\\tthese\\tdetails,\\tyou\\tcan\\ncapture\\tambient\\tsound\\tthat\\tcomplements\\tand\\tenhances\\tyour\\tB-Roll\\tfootage.\\nBy\\tmeticulously\\tplanning\\tand\\tpreparing,\\temploying\\tvarious\\ttechniques\\tand\\tangles,\\tselecting\\tthe\\tright\\tequipment\\tand\\nsettings,\\tand\\tcapturing\\thigh-quality\\tambient\\tsound,\\tyou\\tcan\\televate\\tyour\\tB-Roll\\tfootage\\tto\\tnew\\theights.\\tThese\\telements\\nwork\\ttogether\\tto\\tcreate\\ta\\tmore\\timmersive\\tand\\tengaging\\tviewing\\texperience,\\tenriching\\tyour\\toverall\\tnarrative\\tand\\nmaking\\tyour\\tvideo\\tprojects\\ttruly\\tstand\\tout.\", mimetype='text/plain', start_char_idx=None, end_char_idx=None, text_template='{metadata_str}\\n\\n{content}', metadata_template='{key}: {value}', metadata_seperator='\\n'),\n",
       " Document(id_='afc57c26-5433-42af-98f9-f9ce9b7f5557', embedding=None, metadata={'page_label': '5', 'file_name': 'storyboard.pdf', 'file_path': 'storyboard.pdf', 'file_type': 'application/pdf', 'file_size': 259171, 'creation_date': '2024-09-04', 'last_modified_date': '2024-09-03'}, excluded_embed_metadata_keys=['file_name', 'file_type', 'file_size', 'creation_date', 'last_modified_date', 'last_accessed_date'], excluded_llm_metadata_keys=['file_name', 'file_type', 'file_size', 'creation_date', 'last_modified_date', 'last_accessed_date'], relationships={}, text=\"Incorporating\\tB-Roll\\tinto\\tthe\\tMain\\tFootage\\tIntegrating\\tB-Roll\\tinto\\tthe\\nMain\\tFootage\\nEditing\\tand\\tIntegration\\nTips\\nSeamlessly\\tintegrating\\tB-Roll\\tinto\\tyour\\tmain\\tnarrative\\trequires\\ta\\tthoughtful\\tapproach\\tto\\tediting.\\tBegin\\tby\\tidentifying\\nthe\\tkey\\tmoments\\tin\\tyour\\tprimary\\tfootage\\twhere\\tB-Roll\\tcan\\tadd\\tvalue,\\tsuch\\tas\\ttransitions\\tbetween\\tscenes\\tor\\tto\\nemphasize\\ta\\tparticular\\tpoint.\\tUse\\tB-Roll\\tto\\tbreak\\tup\\tlong\\tsegments\\tof\\ttalking\\theads\\tor\\tstatic\\tshots,\\tproviding\\tvisual\\nvariety\\tand\\tmaintaining\\tviewer\\tengagement.\\tEnsure\\tthat\\tthe\\tB-Roll\\tfootage\\tis\\trelevant\\tand\\tdirectly\\tsupports\\tthe\\tstory\\nyou\\tare\\ttelling.\\tAvoid\\toverusing\\tB-Roll,\\tas\\tit\\tcan\\tdistract\\tfrom\\tthe\\tmain\\tnarrative\\tif\\tnot\\tused\\tjudiciously.\\nTransitions\\nTransitions\\tand\\tcuts\\tare\\tessential\\ttools\\tfor\\tintegrating\\tB-Roll\\tsmoothly.\\tUse\\tcross-dissolves,\\tfades,\\tand\\tother\\ttransition\\neffects\\tto\\tblend\\tB-Roll\\twith\\tyour\\tprimary\\tfootage\\tseamlessly.\\tMatch\\tthe\\tpacing\\tof\\tyour\\ttransitions\\tto\\tthe\\trhythm\\tof\\tyour\\nmain\\tfootage\\tto\\tcreate\\ta\\tcohesive\\tflow.\\tHard\\tcuts\\tcan\\tbe\\teffective\\tfor\\tcreating\\ta\\tsense\\tof\\turgency\\tor\\thighlighting\\ta\\ncontrast,\\twhile\\tsofter\\ttransitions\\tcan\\tconvey\\ta\\tmore\\trelaxed\\tand\\tcontinuous\\tnarrative.\\tPay\\tattention\\tto\\taudio\\ttransitions\\nas\\twell,\\tensuring\\tthat\\tthe\\tsound\\tfrom\\tyour\\tB-Roll\\tand\\tmain\\tfootage\\tblends\\tnaturally.\\nAdding\\tDepth\\tand\\tContext\\nContext\\nB-Roll\\tcan\\tprovide\\tadditional\\tcontext\\tto\\tyour\\tprimary\\tfootage,\\tenriching\\tthe\\tviewer's\\tunderstanding\\tof\\tthe\\tnarrative.\\nUse\\tB-Roll\\tto\\tshow\\tthe\\tenvironment,\\tsecondary\\tactions,\\tor\\tbackground\\tdetails\\tthat\\tsupport\\tthe\\tmain\\tstory.\\tFor\\nexample,\\tif\\tyour\\tprimary\\tfootage\\tis\\tan\\tinterview\\twith\\ta\\tchef,\\tB-Roll\\tof\\tthe\\tkitchen,\\tingredients,\\tand\\tcooking\\tprocess\\tcan\\nprovide\\ta\\tricher\\tcontext\\tand\\tmake\\tthe\\tnarrative\\tmore\\tengaging.\\tThis\\tadditional\\tcontext\\thelps\\tto\\tcreate\\ta\\tmore\\nimmersive\\texperience\\tfor\\tthe\\taudience,\\tallowing\\tthem\\tto\\tconnect\\tmore\\tdeeply\\twith\\tthe\\tstory.\\nExamples\\nExamples\\tof\\tB-Roll\\tenhancing\\tstorytelling\\tare\\tabundant\\tin\\twell-crafted\\tvideos.\\tConsider\\ta\\tdocumentary\\tabout\\ta\\tsmall-\\ntown\\tfestival:\\tprimary\\tfootage\\tmay\\tinclude\\tinterviews\\twith\\torganizers\\tand\\tattendees,\\twhile\\tB-Roll\\tcould\\tcapture\\tthe\\nvibrant\\tscenes\\tof\\tthe\\tfestival,\\tsuch\\tas\\tparades,\\tfood\\tstalls,\\tand\\tperformances.\\tThis\\tB-Roll\\tnot\\tonly\\tadds\\tvisual\\tinterest\\nbut\\talso\\tconveys\\tthe\\tatmosphere\\tand\\texcitement\\tof\\tthe\\tevent,\\tmaking\\tthe\\tstory\\tmore\\tcompelling.\\tAnother\\texample\\ncould\\tbe\\ta\\tcorporate\\tvideo\\twhere\\tB-Roll\\tof\\temployees\\tat\\twork,\\tthe\\toffice\\tenvironment,\\tand\\tproduct\\tshots\\tadd\\tdepth\\tand\\ncontext\\tto\\tthe\\tCEO's\\tmessage,\\tmaking\\tit\\tmore\\trelatable\\tand\\tcredible.\\nColor\\tGrading\\tand\\tMatching\\nImportance\\nColor\\tgrading\\tis\\tcrucial\\tfor\\tensuring\\tvisual\\tconsistency\\tbetween\\tyour\\tB-Roll\\tand\\tmain\\tfootage.\\tInconsistent\\tcolor\\ttones\\ncan\\tbe\\tjarring\\tand\\tdistract\\tthe\\tviewer\\tfrom\\tthe\\tnarrative.\\tBy\\tapplying\\ta\\tconsistent\\tcolor\\tgrade,\\tyou\\tcreate\\ta\\tunified\\tlook\\nthat\\tenhances\\tthe\\toverall\\taesthetic\\tof\\tyour\\tvideo.\\tColor\\tgrading\\tcan\\talso\\tbe\\tused\\tto\\tset\\tthe\\tmood\\tand\\ttone\\tof\\tyour\\nfootage,\\twhether\\tit's\\ta\\twarm,\\tinviting\\tfeel\\tor\\ta\\tcool,\\tprofessional\\tlook.\\nTips\\nTo\\tmatch\\tB-Roll\\tfootage\\twith\\tyour\\tmain\\tfootage,\\tstart\\tby\\tadjusting\\tthe\\twhite\\tbalance\\tto\\tensure\\tthat\\tthe\\tcolors\\tare\\nconsistent\\tacross\\tall\\tclips.\\tUse\\tcolor\\tgrading\\tsoftware\\tto\\tfine-tune\\tthe\\texposure,\\tcontrast,\\tand\\tsaturation\\tlevels,\\tmaking\\nsure\\tthat\\tthe\\tB-Roll\\tblends\\tseamlessly\\twith\\tthe\\tprimary\\tfootage.\\tPay\\tattention\\tto\\tskin\\ttones\\tand\\tother\\tkey\\tcolors\\tto\\nmaintain\\ta\\tnatural\\tand\\tcohesive\\tlook.\\tUtilize\\tLUTs\\t(Look-Up\\tTables)\\tto\\tapply\\ta\\tconsistent\\tcolor\\tgrade\\tacross\\tyour\\nproject,\\tsaving\\ttime\\tand\\tensuring\\tuniformity.\\tFinally,\\treview\\tyour\\tfootage\\ton\\tdifferent\\tmonitors\\tto\\tcheck\\tfor\\tcolor\\nconsistency\\tand\\tmake\\tany\\tnecessary\\tadjustments.\\nBy\\tcarefully\\tediting\\tand\\tintegrating\\tB-Roll,\\tadding\\tdepth\\tand\\tcontext,\\tand\\tensuring\\tcolor\\tconsistency\\tthrough\\tgrading,\\nyou\\tcan\\tcreate\\ta\\tpolished\\tand\\tengaging\\tvideo\\tthat\\tcaptivates\\tyour\\taudience.\\tThese\\ttechniques\\twill\\thelp\\tyou\\tleverage\\tB-\\nRoll\\teffectively,\\tenhancing\\tyour\\tstorytelling\\tand\\tdelivering\\ta\\tmore\\timmersive\\tviewing\\texperience.\\nEnhancing\\tVisual\\tAppeal\\twith\\tB-Roll##\\tIV.\\tElevating\\tYour\\tVideo\\twith\\tB-Roll\\nAdding\\tVisual\\tInterest\\nTechniques\\nUsing\\tB-Roll\\teffectively\\tcan\\tsignificantly\\tenhance\\tthe\\tvisual\\tappeal\\tof\\tyour\\tvideo\\tby\\tbreaking\\tthe\\tmonotony\\tand\\tadding\\ndynamic\\telements.\\tTo\\tachieve\\tthis,\\tidentify\\tmoments\\tin\\tyour\\tmain\\tfootage\\twhere\\tthe\\tnarrative\\tmight\\tbenefit\\tfrom\\nadditional\\tvisual\\tinterest.\\tFor\\tinstance,\\tduring\\tlong\\tinterviews\\tor\\tstatic\\tshots,\\tinsert\\tB-Roll\\tthat\\tis\\trelevant\\tand\", mimetype='text/plain', start_char_idx=None, end_char_idx=None, text_template='{metadata_str}\\n\\n{content}', metadata_template='{key}: {value}', metadata_seperator='\\n')]"
      ]
     },
     "execution_count": 4,
     "metadata": {},
     "output_type": "execute_result"
    }
   ],
   "source": [
    "documents[:5]"
   ]
  },
  {
   "cell_type": "markdown",
   "id": "6b48a301",
   "metadata": {},
   "source": [
    "## Define LLM and Embedding model"
   ]
  },
  {
   "cell_type": "code",
   "execution_count": 5,
   "id": "ab72b717",
   "metadata": {},
   "outputs": [
    {
     "data": {
      "text/plain": [
       "[TextNode(id_='4488dec7-6714-4ef5-af90-0aed3c0d533d', embedding=None, metadata={'page_label': '1', 'file_name': 'storyboard.pdf', 'file_path': 'storyboard.pdf', 'file_type': 'application/pdf', 'file_size': 259171, 'creation_date': '2024-09-04', 'last_modified_date': '2024-09-03'}, excluded_embed_metadata_keys=['file_name', 'file_type', 'file_size', 'creation_date', 'last_modified_date', 'last_accessed_date'], excluded_llm_metadata_keys=['file_name', 'file_type', 'file_size', 'creation_date', 'last_modified_date', 'last_accessed_date'], relationships={<NodeRelationship.SOURCE: '1'>: RelatedNodeInfo(node_id='ae1fbcae-d1d9-4cc8-8a83-63760cf65c40', node_type=<ObjectType.DOCUMENT: '4'>, metadata={'page_label': '1', 'file_name': 'storyboard.pdf', 'file_path': 'storyboard.pdf', 'file_type': 'application/pdf', 'file_size': 259171, 'creation_date': '2024-09-04', 'last_modified_date': '2024-09-03'}, hash='3d7a5569bc21fbfec4e85e93d3cf35382a5726ffd2cacd3d4cf5e4c128646759'), <NodeRelationship.NEXT: '3'>: RelatedNodeInfo(node_id='52c4903d-2669-4d3f-b4d5-b75ea2f2d730', node_type=<ObjectType.TEXT: '1'>, metadata={}, hash='33ff2c110879fdb5c34f6ebef780f1c1c0c709b551ce366db7003b7db27c977a')}, text='The\\tArt\\tand\\tEvolution\\tof\\tB-Roll\\nI.\\tIntroduction\\tto\\tB-Roll\\nDefinition\\tand\\tImportance\\nB-Roll\\trefers\\tto\\tsupplemental\\tor\\talternative\\tfootage\\tintercut\\twith\\tthe\\tmain\\tshot\\tin\\tvideo\\tproduction.\\tIt\\tis\\tcrucial\\tfor\\nenhancing\\tstorytelling,\\tproviding\\tcontext,\\tand\\tmaintaining\\tviewer\\tengagement.\\tBy\\tincorporating\\tB-Roll,\\tfilmmakers\\tand\\ncontent\\tcreators\\tcan\\tillustrate\\tpoints\\tmore\\tvividly,\\tbreak\\tthe\\tmonotony\\tof\\ta\\tsingle\\tshot,\\tand\\tprovide\\tvisual\\tevidence\\nthat\\tsupports\\tthe\\tnarrative.\\tFor\\tinstance,\\tin\\ta\\tdocumentary\\tabout\\twildlife,\\tB-Roll\\tmight\\tinclude\\tclose-up\\tshots\\tof\\nanimals,\\ttheir\\thabitats,\\tand\\tnatural\\tbehaviors,\\tthereby\\tenriching\\tthe\\tviewer\\'s\\tunderstanding\\tand\\texperience.\\nHistorical\\tContext\\nThe\\tterm\\t\"B-Roll\"\\toriginated\\tfrom\\tthe\\tfilm\\tindustry,\\twhere\\tit\\twas\\tused\\tto\\tdescribe\\tsecondary\\tfootage.\\tInitially,\\tB-Roll\\nwas\\tutilized\\tto\\tcover\\tediting\\tcuts,\\tmask\\tcontinuity\\terrors,\\tand\\tadd\\tdepth\\tto\\tthe\\tprimary\\tnarrative.\\tOver\\ttime,\\tit\\thas\\nbecome\\tessential\\tin\\tvarious\\tforms\\tof\\tmedia,\\tincluding\\tnews,\\tdocumentaries,\\tand\\tcorporate\\tvideos.\\tIn\\tthe\\tearly\\tdays\\tof\\ntelevision\\tnews,\\tB-Roll\\tplayed\\ta\\tpivotal\\trole\\tin\\tproviding\\tvisual\\tcontext\\tto\\tnews\\tstories,\\tmaking\\treports\\tmore\\tengaging\\nand\\tinformative.\\tFor\\texample,\\ta\\tnews\\tsegment\\ton\\ta\\tlocal\\tfestival\\twould\\tbe\\tenhanced\\twith\\tB-Roll\\tshowing\\tthe\\tfestival\\'s\\nactivities,\\tcrowds,\\tand\\tperformances.\\nEvolution\\tin\\tModern\\tMedia\\nWith\\tadvancements\\tin\\ttechnology,\\tB-Roll\\thas\\tevolved\\tsignificantly\\tand\\tfound\\tnew\\tapplications\\tin\\tdigital\\tmedia,\\tsocial\\nmedia,\\tand\\tonline\\tcontent\\tcreation.\\tHigh-definition\\tcameras,\\tdrones,\\tand\\tmobile\\tdevices\\thave\\tmade\\tit\\teasier\\tto\\tcapture\\nhigh-quality\\tB-Roll\\tfootage.\\tAdditionally,\\tediting\\tsoftware\\thas\\tbecome\\tmore\\tsophisticated,\\tallowing\\tcreators\\tto\\nseamlessly\\tintegrate\\tB-Roll\\tinto\\ttheir\\tprojects.\\nIn\\tthe\\trealm\\tof\\tdigital\\tmedia,\\tB-Roll\\tis\\tindispensable\\tfor\\tcreating\\tdynamic\\tand\\tengaging\\tcontent.\\tFor\\tinstance,\\nYouTubers\\tand\\tvloggers\\toften\\tuse\\tB-Roll\\tto\\tadd\\tvariety\\tto\\ttheir\\tvideos,\\tillustrate\\ttutorials,\\tor\\tprovide\\ta\\tvisual\\tbreak\\nfrom\\ttalking-head\\tsegments.\\tOn\\tsocial\\tmedia\\tplatforms\\tlike\\tInstagram\\tand\\tTikTok,\\tB-Roll\\thelps\\tin\\tcrafting\\tcompelling\\nstories\\tthat\\tcapture\\tand\\tretain\\tviewers\\'\\tattention.\\nMoreover,\\tthe\\trise\\tof\\tonline\\tcontent\\tcreation\\thas\\tled\\tto\\tinnovative\\tuses\\tof\\tB-Roll.\\tIn\\teducational\\tvideos,\\tB-Roll\\tcan\\ndemonstrate\\tconcepts,\\tshow\\treal-world\\tapplications,\\tand\\tkeep\\tlearners\\tengaged.\\tIn\\tcorporate\\tvideos,\\tit\\tcan\\thighlight\\ncompany\\tculture,\\tshowcase\\tproducts,\\tand\\tenhance\\tbrand\\tstorytelling.\\nIn\\tconclusion,\\tB-Roll\\thas\\ttranscended\\tits\\ttraditional\\trole\\tin\\tfilm\\tand\\ttelevision\\tto\\tbecome\\ta\\tvital\\tcomponent\\tof\\tmodern\\nmedia\\tproduction.\\tIts\\tability\\tto\\tenhance\\tstorytelling,\\tprovide\\tcontext,\\tand\\tmaintain\\tviewer\\tengagement\\tmakes\\tit\\tan\\ninvaluable\\ttool\\tfor\\tcontent\\tcreators\\tacross\\tvarious\\tplatforms.\\nII.\\tPlanning\\tYour\\tB-Roll\\nPre-Production\\tConsiderations\\nStoryboarding\\nEffective\\tB-Roll\\tbegins\\twith\\tmeticulous\\tplanning,\\tand\\tstoryboarding\\tis\\tan\\tessential\\tfirst\\tstep.\\tBy\\toutlining\\tthe\\tnarrative,\\nyou\\tcan\\tidentify\\tthe\\texact\\tmoments\\twhere\\tB-Roll\\twill\\tenhance\\tthe\\tstory.\\tThis\\tvisual\\tblueprint\\tallows\\tyou\\tto\\tsee\\tthe\\tflow\\nof\\tyour\\tmain\\tfootage\\tand\\tpinpoint\\tareas\\tthat\\tneed\\tsupplementary\\tvisuals.', mimetype='text/plain', start_char_idx=0, end_char_idx=3127, text_template='{metadata_str}\\n\\n{content}', metadata_template='{key}: {value}', metadata_seperator='\\n'),\n",
       " TextNode(id_='52c4903d-2669-4d3f-b4d5-b75ea2f2d730', embedding=None, metadata={'page_label': '1', 'file_name': 'storyboard.pdf', 'file_path': 'storyboard.pdf', 'file_type': 'application/pdf', 'file_size': 259171, 'creation_date': '2024-09-04', 'last_modified_date': '2024-09-03'}, excluded_embed_metadata_keys=['file_name', 'file_type', 'file_size', 'creation_date', 'last_modified_date', 'last_accessed_date'], excluded_llm_metadata_keys=['file_name', 'file_type', 'file_size', 'creation_date', 'last_modified_date', 'last_accessed_date'], relationships={<NodeRelationship.SOURCE: '1'>: RelatedNodeInfo(node_id='ae1fbcae-d1d9-4cc8-8a83-63760cf65c40', node_type=<ObjectType.DOCUMENT: '4'>, metadata={'page_label': '1', 'file_name': 'storyboard.pdf', 'file_path': 'storyboard.pdf', 'file_type': 'application/pdf', 'file_size': 259171, 'creation_date': '2024-09-04', 'last_modified_date': '2024-09-03'}, hash='3d7a5569bc21fbfec4e85e93d3cf35382a5726ffd2cacd3d4cf5e4c128646759'), <NodeRelationship.PREVIOUS: '2'>: RelatedNodeInfo(node_id='4488dec7-6714-4ef5-af90-0aed3c0d533d', node_type=<ObjectType.TEXT: '1'>, metadata={'page_label': '1', 'file_name': 'storyboard.pdf', 'file_path': 'storyboard.pdf', 'file_type': 'application/pdf', 'file_size': 259171, 'creation_date': '2024-09-04', 'last_modified_date': '2024-09-03'}, hash='9eb6272e315f3ed80514e846c43c134eb395a23c5464493d2672e8132b5e16c4')}, text='Its\\tability\\tto\\tenhance\\tstorytelling,\\tprovide\\tcontext,\\tand\\tmaintain\\tviewer\\tengagement\\tmakes\\tit\\tan\\ninvaluable\\ttool\\tfor\\tcontent\\tcreators\\tacross\\tvarious\\tplatforms.\\nII.\\tPlanning\\tYour\\tB-Roll\\nPre-Production\\tConsiderations\\nStoryboarding\\nEffective\\tB-Roll\\tbegins\\twith\\tmeticulous\\tplanning,\\tand\\tstoryboarding\\tis\\tan\\tessential\\tfirst\\tstep.\\tBy\\toutlining\\tthe\\tnarrative,\\nyou\\tcan\\tidentify\\tthe\\texact\\tmoments\\twhere\\tB-Roll\\twill\\tenhance\\tthe\\tstory.\\tThis\\tvisual\\tblueprint\\tallows\\tyou\\tto\\tsee\\tthe\\tflow\\nof\\tyour\\tmain\\tfootage\\tand\\tpinpoint\\tareas\\tthat\\tneed\\tsupplementary\\tvisuals.\\tFor\\tinstance,\\tin\\ta\\tdocumentary\\tabout\\turban\\ngardening,\\ta\\tstoryboard\\tmight\\thighlight\\tscenes\\twhere\\tB-Roll\\tof\\tcommunity\\tgardens,\\tplanting\\tactivities,\\tand\\tclose-ups\\tof\\nplants\\tcan\\tadd\\tdepth\\tand\\tcontext\\tto\\tthe\\tnarrative.\\tStoryboarding\\tnot\\tonly\\thelps\\tin\\tvisualizing\\tthe\\tfinal\\tproduct\\tbut\\talso\\nensures\\tthat\\tevery\\tshot\\tserves\\ta\\tpurpose\\tin\\tthe\\tstorytelling\\tprocess.\\nShot\\tList\\nCreating\\ta\\tdetailed\\tshot\\tlist\\tis\\tcrucial\\tfor\\torganized\\tand\\tefficient\\tB-Roll\\tproduction.\\tA\\tshot\\tlist\\toutlines\\tall\\tthe\\tspecific\\nshots\\tneeded\\tto\\tsupport\\tthe\\tmain\\tfootage,\\tensuring\\tthat\\tno\\tcritical\\tvisuals\\tare\\toverlooked.\\tThis\\tlist\\tshould\\tinclude\\nvarious\\ttypes\\tof\\tshots\\tsuch\\tas\\twide\\tangles,\\tclose-ups,\\tand\\tcutaways\\tthat\\tcan\\tbe\\tinterwoven\\twith\\tthe\\tprimary\\tfootage.\\nFor\\texample,\\tin\\ta\\tcorporate\\tvideo\\tshowcasing\\ta\\tnew\\tproduct,\\tthe\\tshot\\tlist\\tmight\\tinclude\\tclose-ups\\tof\\tthe\\tproduct\\tin\\tuse,\\nwide\\tshots\\tof\\tthe\\tmanufacturing\\tprocess,\\tand\\tcutaways\\tof\\tsatisfied\\tcustomers.\\tA\\tcomprehensive\\tshot\\tlist\\tensures\\tthat\\nthe\\tproduction\\tteam\\tcaptures\\tall\\tnecessary\\tfootage,\\tsaving\\ttime\\tand\\tresources\\tduring\\tfilming.\\nLocation\\tScouting\\nChoosing\\tthe\\tright\\tlocations\\tis\\tpivotal\\tfor\\tcapturing\\tcompelling\\tB-Roll.\\tLocation\\tscouting\\tinvolves\\tvisiting\\tpotential\\nfilming\\tsites\\tto\\tassess\\ttheir\\tsuitability\\tfor\\tthe\\tnarrative\\tand\\tvisual\\tcontext.\\tThe\\tgoal\\tis\\tto\\tfind\\tlocations\\tthat\\tnot\\tonly\\tlook\\ngood\\ton\\tcamera\\tbut\\talso\\tenhance\\tthe\\tstory\\tbeing\\ttold.\\tFor\\ta\\ttravel\\tdocumentary,\\tthis\\tmight\\tmean\\tscouting\\tpicturesque\\nlandscapes,\\tbustling\\tmarkets,\\tand\\tcultural\\tlandmarks.\\tBy\\tselecting\\tvisually\\trich\\tand\\tcontextually\\trelevant\\tlocations,\\tyou\\ncan\\tensure\\tthat\\tyour\\tB-Roll\\tadds\\tauthenticity\\tand\\tdepth\\tto\\tthe\\tmain\\tfootage.', mimetype='text/plain', start_char_idx=2581, end_char_idx=4766, text_template='{metadata_str}\\n\\n{content}', metadata_template='{key}: {value}', metadata_seperator='\\n'),\n",
       " TextNode(id_='8aa089b0-190e-46e0-84c4-7aff8bc6c01f', embedding=None, metadata={'page_label': '2', 'file_name': 'storyboard.pdf', 'file_path': 'storyboard.pdf', 'file_type': 'application/pdf', 'file_size': 259171, 'creation_date': '2024-09-04', 'last_modified_date': '2024-09-03'}, excluded_embed_metadata_keys=['file_name', 'file_type', 'file_size', 'creation_date', 'last_modified_date', 'last_accessed_date'], excluded_llm_metadata_keys=['file_name', 'file_type', 'file_size', 'creation_date', 'last_modified_date', 'last_accessed_date'], relationships={<NodeRelationship.SOURCE: '1'>: RelatedNodeInfo(node_id='32017b44-9372-4327-8a0a-6fb212ea1cae', node_type=<ObjectType.DOCUMENT: '4'>, metadata={'page_label': '2', 'file_name': 'storyboard.pdf', 'file_path': 'storyboard.pdf', 'file_type': 'application/pdf', 'file_size': 259171, 'creation_date': '2024-09-04', 'last_modified_date': '2024-09-03'}, hash='ded6afd5cd5f4329bd7d71394aba7122ef91316f4e40d5c0556e493bcd1f031d'), <NodeRelationship.NEXT: '3'>: RelatedNodeInfo(node_id='b835a7f0-32c5-41f4-a821-3e521ad9a500', node_type=<ObjectType.TEXT: '1'>, metadata={}, hash='d2abb664df3899d53f7c3958b11fc73b7dbd9023094333bc667646843e54bb26')}, text=\"Budgeting\\nBudgeting\\tis\\ta\\tcritical\\taspect\\tof\\tB-Roll\\tproduction\\tthat\\trequires\\tcareful\\tplanning.\\tThis\\tinvolves\\tallocating\\tfunds\\tfor\\nequipment,\\tlocations,\\tand\\tpersonnel\\tneeded\\tto\\tcapture\\thigh-quality\\tB-Roll.\\tConsider\\tthe\\tcosts\\tof\\trenting\\tor\\tpurchasing\\ncameras,\\tlighting,\\tand\\tstabilization\\ttools,\\tas\\twell\\tas\\tany\\tlocation\\tfees\\tor\\tpermits\\trequired.\\tAdditionally,\\tfactor\\tin\\tthe\\nexpenses\\tfor\\thiring\\tskilled\\tcrew\\tmembers\\tsuch\\tas\\tcamera\\toperators\\tand\\tlighting\\ttechnicians.\\tA\\twell-planned\\tbudget\\nensures\\tthat\\tyou\\thave\\tthe\\tnecessary\\tresources\\tto\\tproduce\\tprofessional-grade\\tB-Roll\\twithout\\toverspending.\\nEquipment\\tand\\tSetup\\nCameras\\nUsing\\thigh-quality\\tcameras\\tis\\tessential\\tfor\\tensuring\\tthat\\tyour\\tB-Roll\\tfootage\\tmatches\\tthe\\tmain\\tfootage\\tin\\tterms\\tof\\nresolution\\tand\\tclarity.\\tInvest\\tin\\tcameras\\tthat\\toffer\\thigh-definition\\tor\\t4K\\tcapabilities\\tto\\tcapture\\tcrisp\\tand\\tdetailed\\nvisuals.\\tFor\\tinstance,\\ta\\twildlife\\tdocumentary\\tmight\\trequire\\tcameras\\twith\\texcellent\\tzoom\\tcapabilities\\tand\\tlow-light\\nperformance\\tto\\tcapture\\tanimals\\tin\\ttheir\\tnatural\\thabitats.\\tHigh-quality\\tcameras\\tnot\\tonly\\tenhance\\tthe\\tvisual\\tappeal\\tof\\nyour\\tB-Roll\\tbut\\talso\\tprovide\\tmore\\tflexibility\\tin\\tpost-production.\\nLighting\\nProper\\tlighting\\tis\\tcrucial\\tfor\\tachieving\\tconsistent\\tand\\tvisually\\tappealing\\tB-Roll.\\tEnsure\\tthat\\tthe\\tlighting\\tsetup\\tmatches\\nthe\\tmain\\tfootage\\tto\\tmaintain\\ta\\tcohesive\\tlook\\tthroughout\\tthe\\tproject.\\tThis\\tmight\\tinvolve\\tusing\\tnatural\\tlight,\\tstudio\\nlights,\\tor\\ta\\tcombination\\tof\\tboth,\\tdepending\\ton\\tthe\\tshooting\\tconditions.\\tFor\\texample,\\tin\\tan\\tindoor\\tinterview\\tsetting,\\nsoftbox\\tlights\\tcan\\tbe\\tused\\tto\\tcreate\\tflattering\\tand\\teven\\tlighting\\ton\\tthe\\tsubject.\\tProper\\tlighting\\tenhances\\tthe\\tquality\\tof\\nyour\\tB-Roll,\\tmaking\\tit\\tmore\\tvisually\\tengaging\\tand\\tprofessional.\\nAudio\\nWhile\\tB-Roll\\tis\\tprimarily\\tvisual,\\tcapturing\\tambient\\tsound\\tcan\\tadd\\tan\\textra\\tlayer\\tof\\trealism\\tand\\timmersion.\\tConsider\\nusing\\tmicrophones\\tto\\trecord\\tthe\\tnatural\\tsounds\\tof\\tthe\\tenvironment,\\tsuch\\tas\\tbirds\\tchirping\\tin\\ta\\tnature\\tdocumentary\\tor\\nthe\\thustle\\tand\\tbustle\\tof\\ta\\tcity\\tstreet\\tin\\ta\\ttravel\\tvlog.\\tAmbient\\tsound\\tcan\\tbe\\tused\\tto\\tcomplement\\tthe\\tmain\\taudio\\ttrack,\\nproviding\\ta\\tricher\\tand\\tmore\\timmersive\\tviewing\\texperience.\\tEnsure\\tthat\\tthe\\taudio\\tquality\\tis\\tclear\\tand\\tfree\\tfrom\\nunwanted\\tnoise\\tto\\tenhance\\tthe\\toverall\\tproduction\\tvalue.\\nStabilization\\nStabilization\\ttools\\tare\\tessential\\tfor\\tavoiding\\tshaky\\tfootage\\tand\\tensuring\\tsmooth,\\tprofessional-quality\\tB-Roll.\\tUse\\ntripods,\\tgimbals,\\tor\\tother\\tstabilization\\tequipment\\tto\\tkeep\\tthe\\tcamera\\tsteady\\tduring\\tfilming.\\tFor\\tinstance,\\ta\\tgimbal\\tcan\\nbe\\tparticularly\\tuseful\\tfor\\tcapturing\\tdynamic\\tmoving\\tshots,\\tsuch\\tas\\tfollowing\\ta\\tsubject\\tthrough\\ta\\tcrowded\\tmarket.\\nStabilized\\tfootage\\tnot\\tonly\\tlooks\\tmore\\tpolished\\tbut\\talso\\tenhances\\tthe\\tviewer's\\texperience\\tby\\tproviding\\tclear\\tand\\tsteady\\nvisuals.\\tInvesting\\tin\\tproper\\tstabilization\\ttools\\tis\\tcrucial\\tfor\\tproducing\\thigh-quality\\tB-Roll\\tthat\\tcomplements\\tthe\\tmain\\nfootage\\tseamlessly.\\nBy\\tmeticulously\\tplanning\\tand\\texecuting\\tthese\\tpre-production\\tconsiderations\\tand\\tequipment\\tsetups,\\tyou\\tcan\\tensure\\tthat\\nyour\\tB-Roll\\tsignificantly\\tenhances\\tthe\\tstorytelling\\tand\\tvisual\\tappeal\\tof\\tyour\\tproject.\\nIII.\\tTypes\\tof\\tB-Roll\\tFootage\\nAtmospheric\\tShots\\nDescription\\nAtmospheric\\tshots\\tare\\tdesigned\\tto\\tcapture\\tthe\\tmood\\tand\\tambiance\\tof\\ta\\tscene,\\tadding\\tdepth\\tand\\temotional\\tresonance\\nto\\tthe\\tnarrative.\\tThese\\tshots\\toften\\tinclude\\twide\\tangles\\tof\\tlandscapes,\\tcityscapes,\\tor\\tother\\tenvironments\\tthat\\tset\\tthe\\ntone\\tfor\\tthe\\tstory.\", mimetype='text/plain', start_char_idx=0, end_char_idx=3358, text_template='{metadata_str}\\n\\n{content}', metadata_template='{key}: {value}', metadata_seperator='\\n'),\n",
       " TextNode(id_='b835a7f0-32c5-41f4-a821-3e521ad9a500', embedding=None, metadata={'page_label': '2', 'file_name': 'storyboard.pdf', 'file_path': 'storyboard.pdf', 'file_type': 'application/pdf', 'file_size': 259171, 'creation_date': '2024-09-04', 'last_modified_date': '2024-09-03'}, excluded_embed_metadata_keys=['file_name', 'file_type', 'file_size', 'creation_date', 'last_modified_date', 'last_accessed_date'], excluded_llm_metadata_keys=['file_name', 'file_type', 'file_size', 'creation_date', 'last_modified_date', 'last_accessed_date'], relationships={<NodeRelationship.SOURCE: '1'>: RelatedNodeInfo(node_id='32017b44-9372-4327-8a0a-6fb212ea1cae', node_type=<ObjectType.DOCUMENT: '4'>, metadata={'page_label': '2', 'file_name': 'storyboard.pdf', 'file_path': 'storyboard.pdf', 'file_type': 'application/pdf', 'file_size': 259171, 'creation_date': '2024-09-04', 'last_modified_date': '2024-09-03'}, hash='ded6afd5cd5f4329bd7d71394aba7122ef91316f4e40d5c0556e493bcd1f031d'), <NodeRelationship.PREVIOUS: '2'>: RelatedNodeInfo(node_id='8aa089b0-190e-46e0-84c4-7aff8bc6c01f', node_type=<ObjectType.TEXT: '1'>, metadata={'page_label': '2', 'file_name': 'storyboard.pdf', 'file_path': 'storyboard.pdf', 'file_type': 'application/pdf', 'file_size': 259171, 'creation_date': '2024-09-04', 'last_modified_date': '2024-09-03'}, hash='dc79d51e5f76b6f9440ee7bb457b7518b087d6ff352d5dbbb92306403b7c221c')}, text='Investing\\tin\\tproper\\tstabilization\\ttools\\tis\\tcrucial\\tfor\\tproducing\\thigh-quality\\tB-Roll\\tthat\\tcomplements\\tthe\\tmain\\nfootage\\tseamlessly.\\nBy\\tmeticulously\\tplanning\\tand\\texecuting\\tthese\\tpre-production\\tconsiderations\\tand\\tequipment\\tsetups,\\tyou\\tcan\\tensure\\tthat\\nyour\\tB-Roll\\tsignificantly\\tenhances\\tthe\\tstorytelling\\tand\\tvisual\\tappeal\\tof\\tyour\\tproject.\\nIII.\\tTypes\\tof\\tB-Roll\\tFootage\\nAtmospheric\\tShots\\nDescription\\nAtmospheric\\tshots\\tare\\tdesigned\\tto\\tcapture\\tthe\\tmood\\tand\\tambiance\\tof\\ta\\tscene,\\tadding\\tdepth\\tand\\temotional\\tresonance\\nto\\tthe\\tnarrative.\\tThese\\tshots\\toften\\tinclude\\twide\\tangles\\tof\\tlandscapes,\\tcityscapes,\\tor\\tother\\tenvironments\\tthat\\tset\\tthe\\ntone\\tfor\\tthe\\tstory.\\tThe\\tpurpose\\tof\\tatmospheric\\tshots\\tis\\tto\\timmerse\\tthe\\tviewer\\tin\\tthe\\tsetting,\\tproviding\\ta\\tsense\\tof\\tplace\\nand\\tcontext\\tthat\\tenhances\\tthe\\toverall\\tstorytelling\\texperience.\\nExamples\\nAtmospheric\\tB-Roll\\tis\\tparticularly\\teffective\\tin\\tscenarios\\twhere\\tthe\\tenvironment\\tplays\\ta\\tcrucial\\trole\\tin\\tthe\\tnarrative.\\tFor\\ninstance,\\tin\\ta\\tdocumentary\\tabout\\tclimate\\tchange,\\twide\\tshots\\tof\\tmelting\\tglaciers\\tor\\tdeforested\\tareas\\tcan\\tpowerfully\\nconvey\\tthe\\timpact\\tof\\tenvironmental\\tdegradation.\\tSimilarly,\\tin\\ta\\ttravel\\tvlog,\\tsweeping\\tviews\\tof\\ticonic\\tlandmarks\\tor\\nbustling\\tcity\\tstreets\\tcan\\ttransport\\tthe\\taudience\\tto\\tthe\\tlocation,\\tmaking\\tthem\\tfeel\\tas\\tthough\\tthey\\tare\\texperiencing\\tthe\\njourney\\tfirsthand.\\nAction\\tShots\\nDescription\\nAction\\tshots\\tare\\tdynamic\\tand\\tengaging,\\tcapturing\\tmovement\\tand\\tactivity\\tto\\tadd\\texcitement\\tand\\tenergy\\tto\\tthe\\tvideo.\\nThese\\tshots\\toften\\tinclude\\tfast-paced\\tsequences,\\tsuch\\tas\\tsports\\tevents,\\tbustling\\tmarketplaces,\\tor\\tany\\tscenario\\twhere', mimetype='text/plain', start_char_idx=2714, end_char_idx=4277, text_template='{metadata_str}\\n\\n{content}', metadata_template='{key}: {value}', metadata_seperator='\\n'),\n",
       " TextNode(id_='4d93c791-fc7b-4fce-89e8-7280f1a1b66b', embedding=None, metadata={'page_label': '3', 'file_name': 'storyboard.pdf', 'file_path': 'storyboard.pdf', 'file_type': 'application/pdf', 'file_size': 259171, 'creation_date': '2024-09-04', 'last_modified_date': '2024-09-03'}, excluded_embed_metadata_keys=['file_name', 'file_type', 'file_size', 'creation_date', 'last_modified_date', 'last_accessed_date'], excluded_llm_metadata_keys=['file_name', 'file_type', 'file_size', 'creation_date', 'last_modified_date', 'last_accessed_date'], relationships={<NodeRelationship.SOURCE: '1'>: RelatedNodeInfo(node_id='cd222fa3-b58e-4eba-b7a3-11b78406c5da', node_type=<ObjectType.DOCUMENT: '4'>, metadata={'page_label': '3', 'file_name': 'storyboard.pdf', 'file_path': 'storyboard.pdf', 'file_type': 'application/pdf', 'file_size': 259171, 'creation_date': '2024-09-04', 'last_modified_date': '2024-09-03'}, hash='8739f74563485da5c5fd777dcf2f9aa39f907dde6c9c8f233b238a1689acf156'), <NodeRelationship.NEXT: '3'>: RelatedNodeInfo(node_id='93db672a-9e45-4348-b659-b1ec0d138fca', node_type=<ObjectType.TEXT: '1'>, metadata={}, hash='31ed7ab1a28531414e1e43b6b9c0399717a83d307df71b91678bc94b1cb0083e')}, text=\"there\\tis\\tsignificant\\tmotion.\\tAction\\tshots\\tare\\tessential\\tfor\\tmaintaining\\tviewer\\tinterest\\tand\\tconveying\\ta\\tsense\\tof\\turgency\\nor\\tintensity\\twithin\\tthe\\tnarrative.\\nExamples\\nIn\\tdifferent\\tcontexts,\\taction\\tshots\\tcan\\tvary\\twidely.\\tFor\\texample,\\tin\\ta\\tsports\\tdocumentary,\\taction\\tshots\\tmight\\tinclude\\nclose-ups\\tof\\tathletes\\tin\\tmotion,\\tslow-motion\\treplays\\tof\\tcritical\\tmoments,\\tor\\twide\\tshots\\tof\\tthe\\tentire\\tfield.\\tIn\\ta\\tcorporate\\nvideo,\\taction\\tshots\\tcould\\tcapture\\temployees\\tcollaborating\\tin\\ta\\tbusy\\toffice,\\tmachinery\\toperating\\tin\\ta\\tfactory,\\tor\\tproducts\\nbeing\\tassembled\\ton\\ta\\tproduction\\tline.\\tThese\\tshots\\tnot\\tonly\\tadd\\tvisual\\tinterest\\tbut\\talso\\thelp\\tto\\tillustrate\\tkey\\tpoints\\tand\\nkeep\\tthe\\taudience\\tengaged.\\nEstablishing\\tShots\\nDescription\\nEstablishing\\tshots\\tare\\tused\\tto\\tset\\tthe\\tscene\\tand\\tprovide\\tthe\\tviewer\\twith\\ta\\tsense\\tof\\tlocation\\tand\\tcontext.\\tThese\\tshots\\nare\\ttypically\\twide\\tangles\\tor\\taerial\\tviews\\tthat\\tgive\\tan\\toverview\\tof\\tthe\\tsetting\\tbefore\\tthe\\tnarrative\\tzooms\\tin\\ton\\tspecific\\ndetails.\\tThe\\tsignificance\\tof\\testablishing\\tshots\\tlies\\tin\\ttheir\\tability\\tto\\torient\\tthe\\tviewer,\\tmaking\\tit\\tclear\\twhere\\tthe\\nsubsequent\\taction\\tis\\ttaking\\tplace.\\nUsage\\nAs\\tB-Roll,\\testablishing\\tshots\\tare\\tinvaluable\\tfor\\tcreating\\ta\\tseamless\\ttransition\\tbetween\\tscenes.\\tFor\\texample,\\tin\\ta\\ndocumentary\\tabout\\turban\\tdevelopment,\\tan\\testablishing\\tshot\\tof\\ta\\tcity's\\tskyline\\tcan\\tintroduce\\ta\\tsegment\\tabout\\tnew\\narchitectural\\tprojects.\\tIn\\ta\\tfeature\\tfilm,\\tan\\testablishing\\tshot\\tof\\ta\\trural\\tfarmhouse\\tcan\\tset\\tthe\\tstage\\tfor\\ta\\tscene\\tthat\\ntakes\\tplace\\tinside.\\tBy\\tproviding\\ta\\tvisual\\tanchor,\\testablishing\\tshots\\thelp\\tto\\tmaintain\\tthe\\tnarrative\\tflow\\tand\\tensure\\tthat\\nthe\\taudience\\tremains\\toriented\\tthroughout\\tthe\\tvideo.\\nCutaway\\tShots\\nDescription\\nCutaway\\tshots\\tare\\tused\\tto\\tprovide\\tadditional\\tcontext\\tor\\tto\\tillustrate\\tpoints\\tmade\\tin\\tthe\\tmain\\tfootage.\\tThese\\tshots\\toften\\ninvolve\\tcutting\\taway\\tfrom\\tthe\\tprimary\\taction\\tto\\tshow\\trelated\\tvisuals\\tthat\\tenhance\\tthe\\tviewer's\\tunderstanding\\tof\\tthe\\nnarrative.\\tCutaway\\tshots\\tare\\tparticularly\\tuseful\\tin\\tinterviews\\tand\\tnarrative\\tstorytelling,\\twhere\\tthey\\tcan\\tbreak\\tup\\tlong\\nsegments\\tof\\ttalking\\theads\\tand\\tadd\\tvisual\\tvariety.\\nExamples\\nIn\\tinterviews,\\tcutaway\\tshots\\tmight\\tinclude\\tvisuals\\tof\\tthe\\tinterviewee's\\twork\\tenvironment,\\trelevant\\tobjects,\\tor\\tactions\\nthat\\tillustrate\\ttheir\\tpoints.\\tFor\\tinstance,\\tin\\tan\\tinterview\\twith\\ta\\tchef,\\tcutaway\\tshots\\tcould\\tshow\\tthe\\tchef\\tpreparing\\ta\\ndish,\\tclose-ups\\tof\\tingredients,\\tor\\tthe\\tbustling\\tactivity\\tin\\tthe\\tkitchen.\\tIn\\tnarrative\\tstorytelling,\\tcutaway\\tshots\\tcan\\tprovide\\nglimpses\\tof\\tsecondary\\tcharacters,\\tbackground\\tactivities,\\tor\\tsymbolic\\timagery\\tthat\\tenriches\\tthe\\tmain\\tstoryline.\\tThese\\nshots\\tnot\\tonly\\tadd\\tdepth\\tto\\tthe\\tnarrative\\tbut\\talso\\tkeep\\tthe\\tviewer\\tengaged\\tby\\tproviding\\tvisual\\tbreaks\\tand\\tadditional\\nlayers\\tof\\tmeaning.\\nInsert\\tShots\\nDescription\\nInsert\\tshots\\tfocus\\ton\\tspecific\\tdetails\\twithin\\ta\\tscene,\\temphasizing\\telements\\tthat\\tmight\\totherwise\\tgo\\tunnoticed.\\tThese\\nshots\\tare\\ttypically\\tclose-ups\\tor\\textreme\\tclose-ups\\tthat\\tdraw\\tattention\\tto\\timportant\\taspects\\tof\\tthe\\tnarrative.\\tThe\\nimportance\\tof\\tinsert\\tshots\\tlies\\tin\\ttheir\\tability\\tto\\thighlight\\tkey\\tdetails,\\tadding\\temphasis\\tand\\tclarity\\tto\\tthe\\tstory.\\nUsage\\nInsert\\tshots\\tcan\\tsignificantly\\tenhance\\tthe\\tnarrative\\tby\\tproviding\\tcritical\\tvisual\\tinformation.\\tFor\\texample,\\tin\\ta\\tproduct\\ndemonstration\\tvideo,\\tinsert\\tshots\\tmight\\tshow\\tclose-ups\\tof\\tthe\\tproduct's\\tfeatures,\\tsuch\\tas\\tbuttons,\\ttextures,\\tor\\tintricate\\nmechanisms.\", mimetype='text/plain', start_char_idx=0, end_char_idx=3318, text_template='{metadata_str}\\n\\n{content}', metadata_template='{key}: {value}', metadata_seperator='\\n')]"
      ]
     },
     "execution_count": 5,
     "metadata": {},
     "output_type": "execute_result"
    }
   ],
   "source": [
    "from llama_index.core.node_parser import SentenceSplitter\n",
    "\n",
    "splitter = SentenceSplitter(chunk_size=1024)\n",
    "nodes = splitter.get_nodes_from_documents(documents)\n",
    "\n",
    "nodes[:5]"
   ]
  },
  {
   "cell_type": "code",
   "execution_count": 7,
   "id": "de0660ee-b231-4351-b158-d8ad023e00b5",
   "metadata": {
    "height": 130,
    "tags": []
   },
   "outputs": [],
   "source": [
    "from llama_index.core import Settings\n",
    "from llama_index.llms.openai import OpenAI\n",
    "from llama_index.embeddings.openai import OpenAIEmbedding\n",
    "\n",
    "Settings.llm = OpenAI(model=\"gpt-4o\")\n",
    "Settings.embed_model = OpenAIEmbedding(model=\"text-embedding-ada-002\")"
   ]
  },
  {
   "cell_type": "markdown",
   "id": "997c7559",
   "metadata": {},
   "source": [
    "## Define Summary Index and Vector Index over the Same Data"
   ]
  },
  {
   "cell_type": "code",
   "execution_count": 8,
   "id": "73d01b01-bc74-432a-8d92-07b9e86498b0",
   "metadata": {
    "height": 80,
    "tags": []
   },
   "outputs": [],
   "source": [
    "from llama_index.core import SummaryIndex, VectorStoreIndex\n",
    "\n",
    "summary_index = SummaryIndex(nodes)\n",
    "vector_index = VectorStoreIndex(nodes)"
   ]
  },
  {
   "cell_type": "markdown",
   "id": "f9898d3f",
   "metadata": {},
   "source": [
    "## Define Query Engines and Set Metadata"
   ]
  },
  {
   "cell_type": "code",
   "execution_count": 9,
   "id": "44cd7046-c714-4920-b077-b3ded917862f",
   "metadata": {
    "height": 97,
    "tags": []
   },
   "outputs": [],
   "source": [
    "summary_query_engine = summary_index.as_query_engine(\n",
    "    response_mode=\"tree_summarize\",\n",
    "    use_async=True,\n",
    ")\n",
    "vector_query_engine = vector_index.as_query_engine()"
   ]
  },
  {
   "cell_type": "code",
   "execution_count": 11,
   "id": "6a1d6d75-247e-426a-8ef4-b49225c24796",
   "metadata": {
    "height": 300,
    "tags": []
   },
   "outputs": [],
   "source": [
    "from llama_index.core.tools import QueryEngineTool\n",
    "\n",
    "\n",
    "summary_tool = QueryEngineTool.from_defaults(\n",
    "    query_engine=summary_query_engine,\n",
    "    description=(\n",
    "        \"Useful for summarization questions related to Story Writing, B-Rolls, and Visualization\"\n",
    "    ),\n",
    ")\n",
    "\n",
    "vector_tool = QueryEngineTool.from_defaults(\n",
    "    query_engine=vector_query_engine,\n",
    "    description=(\n",
    "        \"Useful for retrieving specific context from the Story Writing, B-Rolls, and Visualization.\"\n",
    "    ),\n",
    ")"
   ]
  },
  {
   "cell_type": "markdown",
   "id": "98d2c152",
   "metadata": {},
   "source": [
    "## Define Router Query Engine"
   ]
  },
  {
   "cell_type": "code",
   "execution_count": 12,
   "id": "00734d7c-638a-4d63-ab1f-7f5a92a65119",
   "metadata": {
    "height": 232,
    "tags": []
   },
   "outputs": [],
   "source": [
    "from llama_index.core.query_engine.router_query_engine import RouterQueryEngine\n",
    "from llama_index.core.selectors import LLMSingleSelector\n",
    "\n",
    "\n",
    "query_engine = RouterQueryEngine(\n",
    "    selector=LLMSingleSelector.from_defaults(),\n",
    "    query_engine_tools=[\n",
    "        summary_tool,\n",
    "        vector_tool,\n",
    "    ],\n",
    "    verbose=True\n",
    ")"
   ]
  },
  {
   "cell_type": "code",
   "execution_count": 13,
   "id": "fe3f0a76-68a8-444d-867f-d084bb3ff112",
   "metadata": {
    "height": 62,
    "tags": []
   },
   "outputs": [
    {
     "name": "stdout",
     "output_type": "stream",
     "text": [
      "\u001b[1;3;38;5;200mSelecting query engine 0: Choice 1 is relevant because it is useful for summarization questions, which aligns with the request for a summary of the document..\n",
      "\u001b[0mThe document provides a comprehensive guide on the art and evolution of B-Roll, emphasizing its importance in enhancing storytelling, providing context, and maintaining viewer engagement. It covers the historical context of B-Roll, its evolution in modern media, and its indispensable role in digital content creation. The document also delves into planning and executing effective B-Roll, including pre-production considerations like storyboarding, shot lists, location scouting, budgeting, and equipment setup. It categorizes different types of B-Roll footage, such as atmospheric shots, action shots, establishing shots, cutaway shots, and insert shots, explaining their usage and significance.\n",
      "\n",
      "Additionally, the document explores advanced techniques for shooting effective B-Roll, including planning, shot lists, techniques and angles, equipment and settings, and capturing ambient sound. It provides tips for integrating B-Roll into the main footage, emphasizing the importance of seamless editing, transitions, adding depth and context, and ensuring color consistency through grading.\n",
      "\n",
      "The document also touches on the practical applications of B-Roll in various fields, including business, education, and journalism, highlighting its transformative potential. It addresses common challenges and ethical considerations in storytelling and visualization, such as oversimplification, data misrepresentation, cognitive overload, accuracy, transparency, bias, and privacy.\n",
      "\n",
      "Finally, the document reflects on future trends in storytelling and visualization, including advancements in technology, personalization and interactivity, and collaborative storytelling. It emphasizes the importance of ethical practices and the potential to create impactful and responsible narratives that resonate with diverse audiences and inspire positive action.\n"
     ]
    }
   ],
   "source": [
    "response = query_engine.query(\"What is the summary of the document?\")\n",
    "print(str(response))"
   ]
  },
  {
   "cell_type": "code",
   "execution_count": 14,
   "id": "d3fedea0-f2a9-46bb-8aaf-287df65b8fff",
   "metadata": {
    "height": 29,
    "tags": []
   },
   "outputs": [
    {
     "name": "stdout",
     "output_type": "stream",
     "text": [
      "69\n"
     ]
    }
   ],
   "source": [
    "print(len(response.source_nodes))"
   ]
  },
  {
   "cell_type": "code",
   "execution_count": 15,
   "id": "af8c31b3-8e22-4ad9-9825-b8de21bd03c0",
   "metadata": {
    "height": 80,
    "tags": []
   },
   "outputs": [
    {
     "name": "stdout",
     "output_type": "stream",
     "text": [
      "\u001b[1;3;38;5;200mSelecting query engine 1: The question is asking for specific context on when to add a B-Roll to make the course more engaging and educational..\n",
      "\u001b[0mTo make a video course more engaging and educational, add B-Roll to illustrate key points made in the main footage, provide visual context, and maintain viewer interest. Use B-Roll to complement and enhance the main narrative without overwhelming it. For example, include B-Roll of relevant activities, environments, or objects that relate to the course content. Additionally, strategically place B-Roll to control the pacing and rhythm of the video, ensuring a dynamic and engaging viewing experience.\n"
     ]
    }
   ],
   "source": [
    "response = query_engine.query(\n",
    "    \"When do I add a B-Roll for a video course so that the course will be more engaging and be more educational?\"\n",
    ")\n",
    "print(str(response))"
   ]
  },
  {
   "cell_type": "markdown",
   "id": "aed060ee",
   "metadata": {},
   "source": [
    "## Let's put everything together"
   ]
  },
  {
   "cell_type": "code",
   "execution_count": null,
   "id": "d8f92e0b-1c54-489b-b8dd-41ebaafb380a",
   "metadata": {
    "height": 63
   },
   "outputs": [],
   "source": [
    "from utils import get_router_query_engine\n",
    "\n",
    "query_engine = get_router_query_engine(\"metagpt.pdf\")"
   ]
  },
  {
   "cell_type": "code",
   "execution_count": null,
   "id": "ec1a43f3-77dc-472a-8adc-56551c00a0ff",
   "metadata": {
    "height": 62,
    "tags": []
   },
   "outputs": [],
   "source": [
    "response = query_engine.query(\"Tell me about the ablation study results?\")\n",
    "print(str(response))"
   ]
  }
 ],
 "metadata": {
  "kernelspec": {
   "display_name": "Python 3 (ipykernel)",
   "language": "python",
   "name": "python3"
  },
  "language_info": {
   "codemirror_mode": {
    "name": "ipython",
    "version": 3
   },
   "file_extension": ".py",
   "mimetype": "text/x-python",
   "name": "python",
   "nbconvert_exporter": "python",
   "pygments_lexer": "ipython3",
   "version": "3.11.9"
  }
 },
 "nbformat": 4,
 "nbformat_minor": 5
}
